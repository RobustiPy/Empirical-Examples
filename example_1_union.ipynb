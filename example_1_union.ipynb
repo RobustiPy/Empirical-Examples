{
 "cells": [
  {
   "cell_type": "markdown",
   "id": "2f67a8a3-7fd4-4cd4-99f7-7f73d7ad03e6",
   "metadata": {},
   "source": [
    "### Empirical Example One for RobustiPY!\n",
    "\n",
    "#### This example is designed to show how basic functionality -- such as OLS can be used with a cross-sectional dataset -- works."
   ]
  },
  {
   "cell_type": "markdown",
   "id": "3a0dde6b-5343-4100-8ccf-53c298a77825",
   "metadata": {},
   "source": [
    "Lets first load in two basic python libraries that we'll need for this example: the `os` module (for path handling), and `matplotlib.pyplot` (for plotting)"
   ]
  },
  {
   "cell_type": "code",
   "execution_count": 1,
   "id": "ab11b040-49b1-45e1-81c4-827795fc539b",
   "metadata": {},
   "outputs": [],
   "source": [
    "import os\n",
    "import matplotlib.pyplot as plt"
   ]
  },
  {
   "cell_type": "markdown",
   "id": "23035adf-6010-4cbf-9c68-fdfa005d948e",
   "metadata": {},
   "source": [
    "Let's make sure that we have RobustiPy installed. To do this, go to the place where you want to install RobustiPy files to, and do:"
   ]
  },
  {
   "cell_type": "markdown",
   "id": "8f2bacc8-6597-421a-9cc5-e336c24365f1",
   "metadata": {},
   "source": [
    "```bash\n",
    "git clone https://github.com/RobustiPy/robustipy.git\n",
    "cd robustipy\n",
    "pip install ."
   ]
  },
  {
   "cell_type": "markdown",
   "id": "6a2acba9-766e-4879-9eec-6ec7eb587e2f",
   "metadata": {},
   "source": [
    "Note next that this example uses the NLSW88 dataset (THE National Longitudinal Survey of Women in 1988), extracted from National Longitudinal of Young Woman who were ages 14-24 in 1988. This dataset is the result of extraction and processing by various people at various times. For more information on the NLS(see [http://www.bls.gov/nls/](http://www.bls.gov/nls/) or [https://www.nlsinfo.org/weights/nlsyw](https://www.nlsinfo.org/weights/nlsyw) for more details). Importantly, this dataset is entirely anonymised, publicly available, and comes bundled with both this repository and the RobustiPy main package.\n",
    "\n",
    "Importantly, you should make sure that you have a copy of the nswl88.dta file located at somewhere like `.data\\input`."
   ]
  },
  {
   "cell_type": "markdown",
   "id": "c91243fd-1b0f-4abc-8101-99786b71e89a",
   "metadata": {},
   "source": [
    "Now, let's load the two RobustiPy utils that we're going to need:"
   ]
  },
  {
   "cell_type": "code",
   "execution_count": 2,
   "id": "aac86153-a672-4599-a422-5591b51d3be2",
   "metadata": {},
   "outputs": [],
   "source": [
    "from robustipy.utils import prepare_union\n",
    "from robustipy.models import OLSRobust"
   ]
  },
  {
   "cell_type": "markdown",
   "id": "2fc46bf3-6ff8-4c99-8dda-f0f63d5b045b",
   "metadata": {},
   "source": [
    "Our key objective is going to try to assess the effect of unionisation (i.e. our 'x' or '$\\beta_1$' on wage. To do this, we'll vary various specifications along the way, and compare our results against other results in the literature\\other statistical software.\n",
    "\n",
    "Next, now that we've got this research question, robustipy installed, and our data set up, lets define a very simple function for this union example, and comment along as we go."
   ]
  },
  {
   "cell_type": "code",
   "execution_count": 3,
   "id": "afdc280e-03d5-42d8-9b08-a7af9071f56d",
   "metadata": {},
   "outputs": [],
   "source": [
    "def union_example():\n",
    "    \"\"\" A simple function for estimating the wage premium or\n",
    "        penalty as a function of the NLSW1988 dataset using\n",
    "        RobustiPy.\n",
    "\n",
    "        Inputs: None\n",
    "        Outputs: None\n",
    "    \"\"\"\n",
    "    \n",
    "    # First, lets make a simple function call which prepares this data akin with the best\n",
    "    # practice econometric\\statistical literature. This function comes wrapped inside \n",
    "    # RobustiPy as it's one of the headline examples of the library.\n",
    "\n",
    "    # Importantly, we extract our: 'y' (dependent variable: wages),\n",
    "    #                              'x' (indep. variable of interest: union membership)\n",
    "    #                              'c' (our set of various controls).\n",
    "    \n",
    "    y, c, x, data = prepare_union(os.path.join('data',\n",
    "                                               'input',\n",
    "                                               'nlsw88.dta'\n",
    "                                              )\n",
    "                                 )\n",
    "\n",
    "    # Now, lets make our first function call to RobustiPy, specifying x, y, and the dataset.\n",
    "\n",
    "    union_robust = OLSRobust(y=[y], x=[x], data=data)\n",
    "\n",
    "    # We're next going to 'Fit' our model, specifying: 'c'     (our set of various controls)\n",
    "    #                                                  'draws' (the number of bootstraps we want)\n",
    "    #                                                  'kfold' (the number of k-folds we want)\n",
    "                    \n",
    "    union_robust.fit(controls=c,\n",
    "                     draws=1000,\n",
    "                     kfold=10,\n",
    "                    )\n",
    "\n",
    "    # Next, we want to get the results from this fit:\n",
    "    \n",
    "    union_results = union_robust.get_results()\n",
    "\n",
    "    # Finally, we want to plot these results. The 'specs' command allows us to plot the values\n",
    "    # from three specific pre-secified specifications (as a list of lists), as well as a\n",
    "    # specific information criterion. We can also specify the figure size.\n",
    "    \n",
    "    union_results.plot(specs=[['hours', 'collgrad'],\n",
    "                              ['collgrad'],\n",
    "                              ['hours', 'age']],\n",
    "                       ic='hqic',\n",
    "                       figsize=(16, 12))\n",
    "\n",
    "    # Finally, save this figure out. First, set a (default) location:\n",
    "    \n",
    "    figpath = os.path.join(os.getcwd(), 'figures', 'union_example')\n",
    "\n",
    "    # Check this path exists, if not, create it:\n",
    "    \n",
    "    if not os.path.exists(figpath):\n",
    "        os.makedirs(figpath)\n",
    "\n",
    "    # Finally, save the figure to that specific place as a .png file.\n",
    "    plt.savefig(os.path.join(figpath, 'union_curve.svg'), bbox_inches='tight')\n",
    "    return union_results"
   ]
  },
  {
   "cell_type": "markdown",
   "id": "31c0f621-a0f1-451a-b0ce-43085338474a",
   "metadata": {},
   "source": [
    "Great: now that we've defined our union plotting function, lets actually call it:"
   ]
  },
  {
   "cell_type": "code",
   "execution_count": null,
   "id": "64800377-497d-458c-923b-a2f151e5e465",
   "metadata": {},
   "outputs": [
    {
     "data": {
      "application/vnd.jupyter.widget-view+json": {
       "model_id": "70205e76c63c48e9a54d67399ac392b0",
       "version_major": 2,
       "version_minor": 0
      },
      "text/plain": [
       "Output()"
      ]
     },
     "metadata": {},
     "output_type": "display_data"
    }
   ],
   "source": [
    "results = union_example()"
   ]
  },
  {
   "cell_type": "code",
   "execution_count": null,
   "id": "019496ed-cf2e-4849-8cdb-67d3ca3c27cb",
   "metadata": {},
   "outputs": [],
   "source": [
    "results.summary"
   ]
  },
  {
   "cell_type": "markdown",
   "id": "c02b4593-a0e1-4fc8-8615-272d4fb04c76",
   "metadata": {},
   "source": [
    "Ta da!"
   ]
  }
 ],
 "metadata": {
  "kernelspec": {
   "display_name": "Python 3 (ipykernel)",
   "language": "python",
   "name": "python3"
  },
  "language_info": {
   "codemirror_mode": {
    "name": "ipython",
    "version": 3
   },
   "file_extension": ".py",
   "mimetype": "text/x-python",
   "name": "python",
   "nbconvert_exporter": "python",
   "pygments_lexer": "ipython3",
   "version": "3.11.7"
  }
 },
 "nbformat": 4,
 "nbformat_minor": 5
}
