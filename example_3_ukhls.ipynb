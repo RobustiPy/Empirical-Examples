{
 "cells": [
  {
   "cell_type": "markdown",
   "id": "ea0c85e6-6e60-4c3d-98bb-3ab4393f9286",
   "metadata": {},
   "source": [
    "### Empirical Example Three for RobustiPy!\n",
    "\n",
    "#### This example is designed to show how the OLSRobust class can be used to estimate a model with longitudinal data.\n",
    "\n",
    "To get access to this data, you'll need the Understanding Society: Longitudinal Teaching Dataset, Waves 1-9, 2009-2018 from [[here](https://beta.ukdataservice.ac.uk/datacatalogue/studies/study?id=8715#!/access-data)]. Registration is immediate for this. Documentation which accompanies it can be found [[here](https://doc.ukdataservice.ac.uk/doc/8715/mrdoc/pdf/8715_user_guide.pdf)].\n",
    "\n",
    "You want to put this data somewhere like `.data/input`.\n",
    "\n",
    "As always, lets load in some of the libraries which we'll need:"
   ]
  },
  {
   "cell_type": "code",
   "execution_count": 1,
   "id": "adc695c7-3b69-4f42-96ae-cf45dc06186b",
   "metadata": {},
   "outputs": [],
   "source": [
    "import os\n",
    "import numpy as np\n",
    "import pandas as pd\n",
    "from robustipy.models import OLSRobust"
   ]
  },
  {
   "cell_type": "markdown",
   "id": "079a137c-8d7b-4793-ba25-ca1ea625a4bb",
   "metadata": {},
   "source": [
    "Then, load in the dataset (note: we are using the tab-seperated version, but they should all be equivilent):"
   ]
  },
  {
   "cell_type": "code",
   "execution_count": 2,
   "id": "972f6252-119b-4405-a6a8-7b57f33bec7e",
   "metadata": {},
   "outputs": [],
   "source": [
    "df = pd.read_csv(os.path.join(os.getcwd(),\n",
    "                              'data',\n",
    "                              'input',\n",
    "                              'longitudinal_td.tab'), sep='\\t',\n",
    "                 low_memory=False)"
   ]
  },
  {
   "cell_type": "markdown",
   "id": "1b631db5-4e40-44b8-b0c1-05ac900b5453",
   "metadata": {},
   "source": [
    "Let's quickly eyeball the data to see what we have:"
   ]
  },
  {
   "cell_type": "code",
   "execution_count": 3,
   "id": "d6f961b1-671a-4f30-87e5-1f59453460f1",
   "metadata": {},
   "outputs": [
    {
     "data": {
      "text/html": [
       "<div>\n",
       "<style scoped>\n",
       "    .dataframe tbody tr th:only-of-type {\n",
       "        vertical-align: middle;\n",
       "    }\n",
       "\n",
       "    .dataframe tbody tr th {\n",
       "        vertical-align: top;\n",
       "    }\n",
       "\n",
       "    .dataframe thead th {\n",
       "        text-align: right;\n",
       "    }\n",
       "</style>\n",
       "<table border=\"1\" class=\"dataframe\">\n",
       "  <thead>\n",
       "    <tr style=\"text-align: right;\">\n",
       "      <th></th>\n",
       "      <th>pidp</th>\n",
       "      <th>wave</th>\n",
       "      <th>hidp</th>\n",
       "      <th>buno_dv</th>\n",
       "      <th>intdatd_dv</th>\n",
       "      <th>intdatm_dv</th>\n",
       "      <th>intdaty_dv</th>\n",
       "      <th>indmode</th>\n",
       "      <th>numintd_dv</th>\n",
       "      <th>hhorig</th>\n",
       "      <th>...</th>\n",
       "      <th>envhabit2</th>\n",
       "      <th>envhabit3</th>\n",
       "      <th>envhabit4</th>\n",
       "      <th>envhabit5</th>\n",
       "      <th>envhabit6</th>\n",
       "      <th>envhabit7</th>\n",
       "      <th>envhabit8</th>\n",
       "      <th>envhabit9</th>\n",
       "      <th>envhabit10</th>\n",
       "      <th>envhabit11</th>\n",
       "    </tr>\n",
       "  </thead>\n",
       "  <tbody>\n",
       "    <tr>\n",
       "      <th>0</th>\n",
       "      <td>68001367</td>\n",
       "      <td>1</td>\n",
       "      <td>68001363</td>\n",
       "      <td>1</td>\n",
       "      <td>19</td>\n",
       "      <td>1</td>\n",
       "      <td>2009</td>\n",
       "      <td>1</td>\n",
       "      <td>1</td>\n",
       "      <td>1</td>\n",
       "      <td>...</td>\n",
       "      <td>2</td>\n",
       "      <td>4</td>\n",
       "      <td>4</td>\n",
       "      <td>4</td>\n",
       "      <td>3</td>\n",
       "      <td>3</td>\n",
       "      <td>3</td>\n",
       "      <td>1</td>\n",
       "      <td>5</td>\n",
       "      <td>1</td>\n",
       "    </tr>\n",
       "    <tr>\n",
       "      <th>1</th>\n",
       "      <td>68004087</td>\n",
       "      <td>1</td>\n",
       "      <td>68004083</td>\n",
       "      <td>1</td>\n",
       "      <td>8</td>\n",
       "      <td>1</td>\n",
       "      <td>2009</td>\n",
       "      <td>1</td>\n",
       "      <td>9</td>\n",
       "      <td>1</td>\n",
       "      <td>...</td>\n",
       "      <td>1</td>\n",
       "      <td>5</td>\n",
       "      <td>1</td>\n",
       "      <td>3</td>\n",
       "      <td>2</td>\n",
       "      <td>1</td>\n",
       "      <td>5</td>\n",
       "      <td>3</td>\n",
       "      <td>4</td>\n",
       "      <td>6</td>\n",
       "    </tr>\n",
       "    <tr>\n",
       "      <th>2</th>\n",
       "      <td>68004087</td>\n",
       "      <td>2</td>\n",
       "      <td>68013602</td>\n",
       "      <td>1</td>\n",
       "      <td>16</td>\n",
       "      <td>2</td>\n",
       "      <td>2010</td>\n",
       "      <td>1</td>\n",
       "      <td>9</td>\n",
       "      <td>1</td>\n",
       "      <td>...</td>\n",
       "      <td></td>\n",
       "      <td></td>\n",
       "      <td></td>\n",
       "      <td></td>\n",
       "      <td></td>\n",
       "      <td></td>\n",
       "      <td></td>\n",
       "      <td></td>\n",
       "      <td></td>\n",
       "      <td></td>\n",
       "    </tr>\n",
       "    <tr>\n",
       "      <th>3</th>\n",
       "      <td>68004087</td>\n",
       "      <td>3</td>\n",
       "      <td>68013604</td>\n",
       "      <td>1</td>\n",
       "      <td>9</td>\n",
       "      <td>2</td>\n",
       "      <td>2011</td>\n",
       "      <td>1</td>\n",
       "      <td>9</td>\n",
       "      <td>1</td>\n",
       "      <td>...</td>\n",
       "      <td></td>\n",
       "      <td></td>\n",
       "      <td></td>\n",
       "      <td></td>\n",
       "      <td></td>\n",
       "      <td></td>\n",
       "      <td></td>\n",
       "      <td></td>\n",
       "      <td></td>\n",
       "      <td></td>\n",
       "    </tr>\n",
       "    <tr>\n",
       "      <th>4</th>\n",
       "      <td>68004087</td>\n",
       "      <td>4</td>\n",
       "      <td>68013606</td>\n",
       "      <td>1</td>\n",
       "      <td>24</td>\n",
       "      <td>1</td>\n",
       "      <td>2012</td>\n",
       "      <td>1</td>\n",
       "      <td>9</td>\n",
       "      <td>1</td>\n",
       "      <td>...</td>\n",
       "      <td>1</td>\n",
       "      <td>5</td>\n",
       "      <td>1</td>\n",
       "      <td>5</td>\n",
       "      <td>3</td>\n",
       "      <td>1</td>\n",
       "      <td>6</td>\n",
       "      <td>2</td>\n",
       "      <td>5</td>\n",
       "      <td>6</td>\n",
       "    </tr>\n",
       "  </tbody>\n",
       "</table>\n",
       "<p>5 rows × 148 columns</p>\n",
       "</div>"
      ],
      "text/plain": [
       "       pidp  wave      hidp  buno_dv intdatd_dv intdatm_dv intdaty_dv  \\\n",
       "0  68001367     1  68001363        1         19          1       2009   \n",
       "1  68004087     1  68004083        1          8          1       2009   \n",
       "2  68004087     2  68013602        1         16          2       2010   \n",
       "3  68004087     3  68013604        1          9          2       2011   \n",
       "4  68004087     4  68013606        1         24          1       2012   \n",
       "\n",
       "   indmode  numintd_dv  hhorig  ...  envhabit2  envhabit3  envhabit4  \\\n",
       "0        1           1       1  ...          2          4          4   \n",
       "1        1           9       1  ...          1          5          1   \n",
       "2        1           9       1  ...                                    \n",
       "3        1           9       1  ...                                    \n",
       "4        1           9       1  ...          1          5          1   \n",
       "\n",
       "  envhabit5 envhabit6 envhabit7 envhabit8 envhabit9 envhabit10 envhabit11  \n",
       "0         4         3         3         3         1          5          1  \n",
       "1         3         2         1         5         3          4          6  \n",
       "2                                                                          \n",
       "3                                                                          \n",
       "4         5         3         1         6         2          5          6  \n",
       "\n",
       "[5 rows x 148 columns]"
      ]
     },
     "execution_count": 3,
     "metadata": {},
     "output_type": "execute_result"
    }
   ],
   "source": [
    "df.head(5)"
   ]
  },
  {
   "cell_type": "markdown",
   "id": "8781d2f2-e518-48ab-ac94-1d5218015467",
   "metadata": {},
   "source": [
    "Our main dependent variable of interest is sf1_dv: General health."
   ]
  },
  {
   "cell_type": "code",
   "execution_count": 4,
   "id": "99cb2d4a-bee3-4312-92c0-c77771da4448",
   "metadata": {},
   "outputs": [],
   "source": [
    "df['sf1_dv'] = pd.to_numeric(df['sf1_dv'], errors='coerce')"
   ]
  },
  {
   "cell_type": "markdown",
   "id": "98e0e3bc-c772-4e8a-bc98-b7f2439c0a37",
   "metadata": {},
   "source": [
    "Then, we're going to binarise it so that good health is 3 or more (==1), zero otherwise:"
   ]
  },
  {
   "cell_type": "code",
   "execution_count": 5,
   "id": "4fd5f1b0-f1e1-4bf1-ad46-bda2c643b0f3",
   "metadata": {},
   "outputs": [],
   "source": [
    "df = df[df['sf1_dv']>0]\n",
    "df['sf1_dv_good'] = np.where(df['sf1_dv']>=3, 1, 0)"
   ]
  },
  {
   "cell_type": "markdown",
   "id": "298a9ea0-326d-43df-96f2-2679bd376ce4",
   "metadata": {},
   "source": [
    "Our grouping variable needs to be a string"
   ]
  },
  {
   "cell_type": "code",
   "execution_count": 6,
   "id": "fb823b76-aaa0-4aef-a697-5254e4b7c625",
   "metadata": {},
   "outputs": [],
   "source": [
    "df['pidp'] = df['pidp'].astype(str)"
   ]
  },
  {
   "cell_type": "markdown",
   "id": "f130ba7b-8b37-4c2f-92a8-08aa431c6c89",
   "metadata": {},
   "source": [
    "Let's convert our `sex_dv` variable into binary 1s and zeros:"
   ]
  },
  {
   "cell_type": "code",
   "execution_count": 7,
   "id": "df447000-dd63-44c6-bc8d-3ea93e11c130",
   "metadata": {},
   "outputs": [
    {
     "data": {
      "text/plain": [
       "<Axes: >"
      ]
     },
     "execution_count": 7,
     "metadata": {},
     "output_type": "execute_result"
    },
    {
     "data": {
      "image/png": "[encoded data removed]",
      "text/plain": [
       "<Figure size 640x480 with 1 Axes>"
      ]
     },
     "metadata": {},
     "output_type": "display_data"
    }
   ],
   "source": [
    "df['sex_dv'] = pd.to_numeric(df['sex_dv'], errors='coerce')\n",
    "df['sex_dv'] = np.where(df['sex_dv']==2, 1, 0)\n",
    "df['sex_dv'].hist()"
   ]
  },
  {
   "cell_type": "markdown",
   "id": "343b6f53-3d09-476b-985b-022e0a478a14",
   "metadata": {},
   "source": [
    "Let's do something similar for cohab_dv, but this is already 1s and 0s:"
   ]
  },
  {
   "cell_type": "code",
   "execution_count": 8,
   "id": "75b81769-4347-451b-b88e-964f8594bf95",
   "metadata": {},
   "outputs": [],
   "source": [
    "df['cohab_dv'] = pd.to_numeric(df['cohab_dv'], errors='coerce')\n",
    "df = df[df['cohab_dv']>=0]"
   ]
  },
  {
   "cell_type": "code",
   "execution_count": 9,
   "id": "c411f9eb-083a-48dd-b052-628b23001f4f",
   "metadata": {},
   "outputs": [
    {
     "data": {
      "text/plain": [
       "<Axes: >"
      ]
     },
     "execution_count": 9,
     "metadata": {},
     "output_type": "execute_result"
    },
    {
     "data": {
      "image/png": "[encoded data removed]",
      "text/plain": [
       "<Figure size 640x480 with 1 Axes>"
      ]
     },
     "metadata": {},
     "output_type": "display_data"
    }
   ],
   "source": [
    "df['urban_dv'] = pd.to_numeric(df['urban_dv'], errors='coerce')\n",
    "df = df[df['urban_dv']>0]\n",
    "df['urban_dv'].hist()"
   ]
  },
  {
   "cell_type": "markdown",
   "id": "cb97f5dc-e16b-4bdc-a7d1-cec7b94b03ce",
   "metadata": {},
   "source": [
    "Lets then – for simplicity and without failing to appreciate the complexity of this variable – dichotomize an additional variable (after cleaning it for missing/non-response). You can make something as simple as `is_british` (==1, 0 otherwise), or something more elaborate."
   ]
  },
  {
   "cell_type": "code",
   "execution_count": 11,
   "id": "dd230358-0b91-4bc3-be73-02528e37ce02",
   "metadata": {},
   "outputs": [],
   "source": [
    "df['ethn_dv'] = pd.to_numeric(df['ethn_dv'], errors='coerce')\n",
    "df = df[df['ethn_dv']>0]\n",
    "df['is_british'] = np.where(df['ethn_dv']==1, 1, 0)"
   ]
  },
  {
   "cell_type": "code",
   "execution_count": 12,
   "id": "e83873d2-8d37-438f-9686-1a3b1c78675f",
   "metadata": {},
   "outputs": [],
   "source": [
    "df['bmi_dv'] = pd.to_numeric(df['bmi_dv'], errors='coerce')\n",
    "df = df[df['bmi_dv']>0]"
   ]
  },
  {
   "cell_type": "code",
   "execution_count": 13,
   "id": "82095c85-0c7f-44b4-aeca-9a4f0641d7e7",
   "metadata": {},
   "outputs": [],
   "source": [
    "df = df[df['hhsize_dv']>0]"
   ]
  },
  {
   "cell_type": "code",
   "execution_count": 14,
   "id": "02edd26b-ca2b-4f7e-a626-2e23f329413e",
   "metadata": {},
   "outputs": [],
   "source": [
    "df['age_dv'] = pd.to_numeric(df['age_dv'], errors='coerce')\n",
    "df = df[df['age_dv']>0]"
   ]
  },
  {
   "cell_type": "markdown",
   "id": "be2cbeb9-77d0-40d3-b274-54dc54b619f6",
   "metadata": {},
   "source": [
    "Let's next make a variable for whether an individual has a degree or not:"
   ]
  },
  {
   "cell_type": "code",
   "execution_count": 15,
   "id": "4d63b9ba-b7ec-4a9d-a5d1-9cc2ff99014d",
   "metadata": {},
   "outputs": [],
   "source": [
    "df['hiqual_dv'] = pd.to_numeric(df['hiqual_dv'], errors='coerce')\n",
    "df = df[df['hiqual_dv']>0]\n",
    "df['has_degree'] = np.where(df['hiqual_dv']==3, 1, 0)"
   ]
  },
  {
   "cell_type": "markdown",
   "id": "1111872e-ce63-450c-8f81-aacf3edd5a6f",
   "metadata": {},
   "source": [
    "Subset our dataframe for simplicity:"
   ]
  },
  {
   "cell_type": "code",
   "execution_count": 27,
   "id": "1945ef1d-d561-4df6-b5f6-771261e4fc0a",
   "metadata": {},
   "outputs": [
    {
     "data": {
      "text/html": [
       "<div>\n",
       "<style scoped>\n",
       "    .dataframe tbody tr th:only-of-type {\n",
       "        vertical-align: middle;\n",
       "    }\n",
       "\n",
       "    .dataframe tbody tr th {\n",
       "        vertical-align: top;\n",
       "    }\n",
       "\n",
       "    .dataframe thead th {\n",
       "        text-align: right;\n",
       "    }\n",
       "</style>\n",
       "<table border=\"1\" class=\"dataframe\">\n",
       "  <thead>\n",
       "    <tr style=\"text-align: right;\">\n",
       "      <th></th>\n",
       "      <th>sf1_dv_good</th>\n",
       "      <th>age_dv</th>\n",
       "      <th>sex_dv</th>\n",
       "      <th>cohab_dv</th>\n",
       "      <th>pidp</th>\n",
       "      <th>is_british</th>\n",
       "      <th>urban_dv</th>\n",
       "      <th>hhsize_dv</th>\n",
       "      <th>bmi_dv</th>\n",
       "    </tr>\n",
       "  </thead>\n",
       "  <tbody>\n",
       "    <tr>\n",
       "      <th>0</th>\n",
       "      <td>0</td>\n",
       "      <td>39</td>\n",
       "      <td>0</td>\n",
       "      <td>0</td>\n",
       "      <td>68001367</td>\n",
       "      <td>1</td>\n",
       "      <td>1.0</td>\n",
       "      <td>1</td>\n",
       "      <td>29.6</td>\n",
       "    </tr>\n",
       "    <tr>\n",
       "      <th>1</th>\n",
       "      <td>0</td>\n",
       "      <td>59</td>\n",
       "      <td>0</td>\n",
       "      <td>0</td>\n",
       "      <td>68004087</td>\n",
       "      <td>0</td>\n",
       "      <td>1.0</td>\n",
       "      <td>1</td>\n",
       "      <td>21.6</td>\n",
       "    </tr>\n",
       "    <tr>\n",
       "      <th>2</th>\n",
       "      <td>1</td>\n",
       "      <td>39</td>\n",
       "      <td>1</td>\n",
       "      <td>1</td>\n",
       "      <td>68006127</td>\n",
       "      <td>1</td>\n",
       "      <td>1.0</td>\n",
       "      <td>4</td>\n",
       "      <td>38.8</td>\n",
       "    </tr>\n",
       "    <tr>\n",
       "      <th>3</th>\n",
       "      <td>1</td>\n",
       "      <td>72</td>\n",
       "      <td>1</td>\n",
       "      <td>0</td>\n",
       "      <td>68006807</td>\n",
       "      <td>1</td>\n",
       "      <td>1.0</td>\n",
       "      <td>1</td>\n",
       "      <td>21.0</td>\n",
       "    </tr>\n",
       "    <tr>\n",
       "      <th>4</th>\n",
       "      <td>0</td>\n",
       "      <td>57</td>\n",
       "      <td>1</td>\n",
       "      <td>0</td>\n",
       "      <td>68007487</td>\n",
       "      <td>1</td>\n",
       "      <td>1.0</td>\n",
       "      <td>4</td>\n",
       "      <td>28.5</td>\n",
       "    </tr>\n",
       "  </tbody>\n",
       "</table>\n",
       "</div>"
      ],
      "text/plain": [
       "   sf1_dv_good  age_dv  sex_dv  cohab_dv      pidp  is_british  urban_dv  \\\n",
       "0            0      39       0         0  68001367           1       1.0   \n",
       "1            0      59       0         0  68004087           0       1.0   \n",
       "2            1      39       1         1  68006127           1       1.0   \n",
       "3            1      72       1         0  68006807           1       1.0   \n",
       "4            0      57       1         0  68007487           1       1.0   \n",
       "\n",
       "   hhsize_dv  bmi_dv  \n",
       "0          1    29.6  \n",
       "1          1    21.6  \n",
       "2          4    38.8  \n",
       "3          1    21.0  \n",
       "4          4    28.5  "
      ]
     },
     "execution_count": 27,
     "metadata": {},
     "output_type": "execute_result"
    }
   ],
   "source": [
    "df = df.reset_index()\n",
    "df = df[['sf1_dv_good', 'age_dv', 'sex_dv', 'cohab_dv', 'pidp', 'is_british', 'urban_dv', 'hhsize_dv', 'bmi_dv']]\n",
    "df.head(5)"
   ]
  },
  {
   "cell_type": "markdown",
   "id": "c85c358e-7f5a-48ba-96fe-5bce553c520d",
   "metadata": {},
   "source": [
    "What's the length?"
   ]
  },
  {
   "cell_type": "code",
   "execution_count": 17,
   "id": "d458dee0-c4fe-47dc-aa76-42c8157823b5",
   "metadata": {},
   "outputs": [
    {
     "data": {
      "text/plain": [
       "34216"
      ]
     },
     "execution_count": 17,
     "metadata": {},
     "output_type": "execute_result"
    }
   ],
   "source": [
    "len(df)"
   ]
  },
  {
   "cell_type": "markdown",
   "id": "6216bf35-7f3a-457d-b82c-b4248fc29bd2",
   "metadata": {},
   "source": [
    "Now let's drop and see if we lose any (we shouldnt, though! Why?)"
   ]
  },
  {
   "cell_type": "code",
   "execution_count": 18,
   "id": "6899f4c1-9f2f-45f6-9ed1-94fbf44789ab",
   "metadata": {},
   "outputs": [
    {
     "name": "stdout",
     "output_type": "stream",
     "text": [
      "34216\n"
     ]
    }
   ],
   "source": [
    "df = df.dropna()\n",
    "print(len(df))"
   ]
  },
  {
   "cell_type": "markdown",
   "id": "01d666be-165b-42c2-9933-c721ccdb868a",
   "metadata": {},
   "source": [
    "Now what does our dataset look like?"
   ]
  },
  {
   "cell_type": "code",
   "execution_count": 19,
   "id": "97be4c10-45ba-41dc-81d6-67785210b6d4",
   "metadata": {},
   "outputs": [
    {
     "data": {
      "text/html": [
       "<div>\n",
       "<style scoped>\n",
       "    .dataframe tbody tr th:only-of-type {\n",
       "        vertical-align: middle;\n",
       "    }\n",
       "\n",
       "    .dataframe tbody tr th {\n",
       "        vertical-align: top;\n",
       "    }\n",
       "\n",
       "    .dataframe thead th {\n",
       "        text-align: right;\n",
       "    }\n",
       "</style>\n",
       "<table border=\"1\" class=\"dataframe\">\n",
       "  <thead>\n",
       "    <tr style=\"text-align: right;\">\n",
       "      <th></th>\n",
       "      <th>sf1_dv_good</th>\n",
       "      <th>age_dv</th>\n",
       "      <th>sex_dv</th>\n",
       "      <th>cohab_dv</th>\n",
       "      <th>pidp</th>\n",
       "      <th>gor_dv</th>\n",
       "      <th>is_british</th>\n",
       "      <th>urban_dv</th>\n",
       "      <th>hhsize_dv</th>\n",
       "      <th>bmi_dv</th>\n",
       "    </tr>\n",
       "  </thead>\n",
       "  <tbody>\n",
       "    <tr>\n",
       "      <th>0</th>\n",
       "      <td>0</td>\n",
       "      <td>39</td>\n",
       "      <td>0</td>\n",
       "      <td>0</td>\n",
       "      <td>68001367</td>\n",
       "      <td>1</td>\n",
       "      <td>1</td>\n",
       "      <td>1.0</td>\n",
       "      <td>1</td>\n",
       "      <td>29.6</td>\n",
       "    </tr>\n",
       "    <tr>\n",
       "      <th>1</th>\n",
       "      <td>0</td>\n",
       "      <td>59</td>\n",
       "      <td>0</td>\n",
       "      <td>0</td>\n",
       "      <td>68004087</td>\n",
       "      <td>1</td>\n",
       "      <td>0</td>\n",
       "      <td>1.0</td>\n",
       "      <td>1</td>\n",
       "      <td>21.6</td>\n",
       "    </tr>\n",
       "    <tr>\n",
       "      <th>2</th>\n",
       "      <td>1</td>\n",
       "      <td>39</td>\n",
       "      <td>1</td>\n",
       "      <td>1</td>\n",
       "      <td>68006127</td>\n",
       "      <td>1</td>\n",
       "      <td>1</td>\n",
       "      <td>1.0</td>\n",
       "      <td>4</td>\n",
       "      <td>38.8</td>\n",
       "    </tr>\n",
       "    <tr>\n",
       "      <th>3</th>\n",
       "      <td>1</td>\n",
       "      <td>72</td>\n",
       "      <td>1</td>\n",
       "      <td>0</td>\n",
       "      <td>68006807</td>\n",
       "      <td>1</td>\n",
       "      <td>1</td>\n",
       "      <td>1.0</td>\n",
       "      <td>1</td>\n",
       "      <td>21.0</td>\n",
       "    </tr>\n",
       "    <tr>\n",
       "      <th>4</th>\n",
       "      <td>0</td>\n",
       "      <td>57</td>\n",
       "      <td>1</td>\n",
       "      <td>0</td>\n",
       "      <td>68007487</td>\n",
       "      <td>1</td>\n",
       "      <td>1</td>\n",
       "      <td>1.0</td>\n",
       "      <td>4</td>\n",
       "      <td>28.5</td>\n",
       "    </tr>\n",
       "  </tbody>\n",
       "</table>\n",
       "</div>"
      ],
      "text/plain": [
       "   sf1_dv_good  age_dv  sex_dv  cohab_dv      pidp gor_dv  is_british  \\\n",
       "0            0      39       0         0  68001367      1           1   \n",
       "1            0      59       0         0  68004087      1           0   \n",
       "2            1      39       1         1  68006127      1           1   \n",
       "3            1      72       1         0  68006807      1           1   \n",
       "4            0      57       1         0  68007487      1           1   \n",
       "\n",
       "   urban_dv  hhsize_dv  bmi_dv  \n",
       "0       1.0          1    29.6  \n",
       "1       1.0          1    21.6  \n",
       "2       1.0          4    38.8  \n",
       "3       1.0          1    21.0  \n",
       "4       1.0          4    28.5  "
      ]
     },
     "execution_count": 19,
     "metadata": {},
     "output_type": "execute_result"
    }
   ],
   "source": [
    "df.head(5)"
   ]
  },
  {
   "cell_type": "markdown",
   "id": "705fc79f-f760-4152-8db5-8299214ac3a8",
   "metadata": {},
   "source": [
    "Lets quickly check the correlation matrix to check that nothing funky is going on:"
   ]
  },
  {
   "cell_type": "code",
   "execution_count": 28,
   "id": "987324e5-c8b3-44fa-b9e5-b0e92a8495c8",
   "metadata": {},
   "outputs": [
    {
     "data": {
      "text/html": [
       "<div>\n",
       "<style scoped>\n",
       "    .dataframe tbody tr th:only-of-type {\n",
       "        vertical-align: middle;\n",
       "    }\n",
       "\n",
       "    .dataframe tbody tr th {\n",
       "        vertical-align: top;\n",
       "    }\n",
       "\n",
       "    .dataframe thead th {\n",
       "        text-align: right;\n",
       "    }\n",
       "</style>\n",
       "<table border=\"1\" class=\"dataframe\">\n",
       "  <thead>\n",
       "    <tr style=\"text-align: right;\">\n",
       "      <th></th>\n",
       "      <th>sf1_dv_good</th>\n",
       "      <th>age_dv</th>\n",
       "      <th>sex_dv</th>\n",
       "      <th>cohab_dv</th>\n",
       "      <th>pidp</th>\n",
       "      <th>is_british</th>\n",
       "      <th>urban_dv</th>\n",
       "      <th>hhsize_dv</th>\n",
       "      <th>bmi_dv</th>\n",
       "    </tr>\n",
       "  </thead>\n",
       "  <tbody>\n",
       "    <tr>\n",
       "      <th>sf1_dv_good</th>\n",
       "      <td>1.000000</td>\n",
       "      <td>0.208857</td>\n",
       "      <td>-0.001340</td>\n",
       "      <td>-0.028493</td>\n",
       "      <td>-0.009716</td>\n",
       "      <td>0.042586</td>\n",
       "      <td>-0.017272</td>\n",
       "      <td>-0.099008</td>\n",
       "      <td>0.180794</td>\n",
       "    </tr>\n",
       "    <tr>\n",
       "      <th>age_dv</th>\n",
       "      <td>0.208857</td>\n",
       "      <td>1.000000</td>\n",
       "      <td>-0.018694</td>\n",
       "      <td>-0.203942</td>\n",
       "      <td>-0.001113</td>\n",
       "      <td>0.265100</td>\n",
       "      <td>0.142413</td>\n",
       "      <td>-0.433151</td>\n",
       "      <td>0.153511</td>\n",
       "    </tr>\n",
       "    <tr>\n",
       "      <th>sex_dv</th>\n",
       "      <td>-0.001340</td>\n",
       "      <td>-0.018694</td>\n",
       "      <td>1.000000</td>\n",
       "      <td>-0.015784</td>\n",
       "      <td>-0.008592</td>\n",
       "      <td>0.019619</td>\n",
       "      <td>0.014312</td>\n",
       "      <td>0.014180</td>\n",
       "      <td>-0.061605</td>\n",
       "    </tr>\n",
       "    <tr>\n",
       "      <th>cohab_dv</th>\n",
       "      <td>-0.028493</td>\n",
       "      <td>-0.203942</td>\n",
       "      <td>-0.015784</td>\n",
       "      <td>1.000000</td>\n",
       "      <td>-0.009613</td>\n",
       "      <td>0.067315</td>\n",
       "      <td>-0.018154</td>\n",
       "      <td>0.046831</td>\n",
       "      <td>-0.019135</td>\n",
       "    </tr>\n",
       "    <tr>\n",
       "      <th>pidp</th>\n",
       "      <td>-0.009716</td>\n",
       "      <td>-0.001113</td>\n",
       "      <td>-0.008592</td>\n",
       "      <td>-0.009613</td>\n",
       "      <td>1.000000</td>\n",
       "      <td>-0.041107</td>\n",
       "      <td>-0.027632</td>\n",
       "      <td>0.013653</td>\n",
       "      <td>0.001454</td>\n",
       "    </tr>\n",
       "    <tr>\n",
       "      <th>is_british</th>\n",
       "      <td>0.042586</td>\n",
       "      <td>0.265100</td>\n",
       "      <td>0.019619</td>\n",
       "      <td>0.067315</td>\n",
       "      <td>-0.041107</td>\n",
       "      <td>1.000000</td>\n",
       "      <td>0.206949</td>\n",
       "      <td>-0.218773</td>\n",
       "      <td>0.070843</td>\n",
       "    </tr>\n",
       "    <tr>\n",
       "      <th>urban_dv</th>\n",
       "      <td>-0.017272</td>\n",
       "      <td>0.142413</td>\n",
       "      <td>0.014312</td>\n",
       "      <td>-0.018154</td>\n",
       "      <td>-0.027632</td>\n",
       "      <td>0.206949</td>\n",
       "      <td>1.000000</td>\n",
       "      <td>-0.049106</td>\n",
       "      <td>0.011159</td>\n",
       "    </tr>\n",
       "    <tr>\n",
       "      <th>hhsize_dv</th>\n",
       "      <td>-0.099008</td>\n",
       "      <td>-0.433151</td>\n",
       "      <td>0.014180</td>\n",
       "      <td>0.046831</td>\n",
       "      <td>0.013653</td>\n",
       "      <td>-0.218773</td>\n",
       "      <td>-0.049106</td>\n",
       "      <td>1.000000</td>\n",
       "      <td>-0.042932</td>\n",
       "    </tr>\n",
       "    <tr>\n",
       "      <th>bmi_dv</th>\n",
       "      <td>0.180794</td>\n",
       "      <td>0.153511</td>\n",
       "      <td>-0.061605</td>\n",
       "      <td>-0.019135</td>\n",
       "      <td>0.001454</td>\n",
       "      <td>0.070843</td>\n",
       "      <td>0.011159</td>\n",
       "      <td>-0.042932</td>\n",
       "      <td>1.000000</td>\n",
       "    </tr>\n",
       "  </tbody>\n",
       "</table>\n",
       "</div>"
      ],
      "text/plain": [
       "             sf1_dv_good    age_dv    sex_dv  cohab_dv      pidp  is_british  \\\n",
       "sf1_dv_good     1.000000  0.208857 -0.001340 -0.028493 -0.009716    0.042586   \n",
       "age_dv          0.208857  1.000000 -0.018694 -0.203942 -0.001113    0.265100   \n",
       "sex_dv         -0.001340 -0.018694  1.000000 -0.015784 -0.008592    0.019619   \n",
       "cohab_dv       -0.028493 -0.203942 -0.015784  1.000000 -0.009613    0.067315   \n",
       "pidp           -0.009716 -0.001113 -0.008592 -0.009613  1.000000   -0.041107   \n",
       "is_british      0.042586  0.265100  0.019619  0.067315 -0.041107    1.000000   \n",
       "urban_dv       -0.017272  0.142413  0.014312 -0.018154 -0.027632    0.206949   \n",
       "hhsize_dv      -0.099008 -0.433151  0.014180  0.046831  0.013653   -0.218773   \n",
       "bmi_dv          0.180794  0.153511 -0.061605 -0.019135  0.001454    0.070843   \n",
       "\n",
       "             urban_dv  hhsize_dv    bmi_dv  \n",
       "sf1_dv_good -0.017272  -0.099008  0.180794  \n",
       "age_dv       0.142413  -0.433151  0.153511  \n",
       "sex_dv       0.014312   0.014180 -0.061605  \n",
       "cohab_dv    -0.018154   0.046831 -0.019135  \n",
       "pidp        -0.027632   0.013653  0.001454  \n",
       "is_british   0.206949  -0.218773  0.070843  \n",
       "urban_dv     1.000000  -0.049106  0.011159  \n",
       "hhsize_dv   -0.049106   1.000000 -0.042932  \n",
       "bmi_dv       0.011159  -0.042932  1.000000  "
      ]
     },
     "execution_count": 28,
     "metadata": {},
     "output_type": "execute_result"
    }
   ],
   "source": [
    "df.corr()"
   ]
  },
  {
   "cell_type": "markdown",
   "id": "ebf0fc16-fa7d-430c-9327-73241699ce37",
   "metadata": {},
   "source": [
    "What data types do we have here?"
   ]
  },
  {
   "cell_type": "code",
   "execution_count": 29,
   "id": "e0abb6ed-d285-4661-80e7-9d8483de5a39",
   "metadata": {},
   "outputs": [
    {
     "data": {
      "text/plain": [
       "sf1_dv_good      int64\n",
       "age_dv           int64\n",
       "sex_dv           int64\n",
       "cohab_dv         int64\n",
       "pidp            object\n",
       "is_british       int64\n",
       "urban_dv       float64\n",
       "hhsize_dv        int64\n",
       "bmi_dv         float64\n",
       "dtype: object"
      ]
     },
     "execution_count": 29,
     "metadata": {},
     "output_type": "execute_result"
    }
   ],
   "source": [
    "df.dtypes"
   ]
  },
  {
   "cell_type": "code",
   "execution_count": 46,
   "id": "7adaec0c",
   "metadata": {},
   "outputs": [],
   "source": [
    "df = df[0:500]"
   ]
  },
  {
   "cell_type": "markdown",
   "id": "776ddc04-2f10-47f0-a309-537e8bff9098",
   "metadata": {},
   "source": [
    "Finally, lets call RobustiPy as we do in other examples, noting the group='pipd' call:"
   ]
  },
  {
   "cell_type": "code",
   "execution_count": 47,
   "id": "dfa0e7a2-0615-4943-bdb2-d09bd8a428a8",
   "metadata": {},
   "outputs": [],
   "source": [
    "ukhls_robustipy = OLSRobust(y=['age_dv'],\n",
    "                            x=['sex_dv'],\n",
    "                            data=df.dropna())"
   ]
  },
  {
   "cell_type": "markdown",
   "id": "cd089581-8a61-4937-b43c-ab79c825f571",
   "metadata": {},
   "source": [
    "Now, let's fit the model:"
   ]
  },
  {
   "cell_type": "code",
   "execution_count": 48,
   "id": "0f9d2f5b-883c-4567-99de-e479e9216ee4",
   "metadata": {},
   "outputs": [
    {
     "data": {
      "application/vnd.jupyter.widget-view+json": {
       "model_id": "2ac8fd2002454ab5b251ccd23984976f",
       "version_major": 2,
       "version_minor": 0
      },
      "text/plain": [
       "Output()"
      ]
     },
     "metadata": {},
     "output_type": "display_data"
    },
    {
     "data": {
      "text/html": [
       "<pre style=\"white-space:pre;overflow-x:auto;line-height:normal;font-family:Menlo,'DejaVu Sans Mono',consolas,'Courier New',monospace\"></pre>\n"
      ],
      "text/plain": []
     },
     "metadata": {},
     "output_type": "display_data"
    },
    {
     "data": {
      "text/html": [
       "<pre style=\"white-space:pre;overflow-x:auto;line-height:normal;font-family:Menlo,'DejaVu Sans Mono',consolas,'Courier New',monospace\">\n",
       "</pre>\n"
      ],
      "text/plain": [
       "\n"
      ]
     },
     "metadata": {},
     "output_type": "display_data"
    },
    {
     "ename": "ValueError",
     "evalue": "Inputs must not be empty.",
     "output_type": "error",
     "traceback": [
      "\u001b[0;31m---------------------------------------------------------------------------\u001b[0m",
      "\u001b[0;31m_RemoteTraceback\u001b[0m                          Traceback (most recent call last)",
      "\u001b[0;31m_RemoteTraceback\u001b[0m: \n\"\"\"\nTraceback (most recent call last):\n  File \"/home/porco/anaconda3/lib/python3.11/site-packages/joblib/externals/loky/process_executor.py\", line 428, in _process_worker\n    r = call_item()\n        ^^^^^^^^^^^\n  File \"/home/porco/anaconda3/lib/python3.11/site-packages/joblib/externals/loky/process_executor.py\", line 275, in __call__\n    return self.fn(*self.args, **self.kwargs)\n           ^^^^^^^^^^^^^^^^^^^^^^^^^^^^^^^^^^\n  File \"/home/porco/anaconda3/lib/python3.11/site-packages/joblib/_parallel_backends.py\", line 620, in __call__\n    return self.func(*args, **kwargs)\n           ^^^^^^^^^^^^^^^^^^^^^^^^^^\n  File \"/home/porco/anaconda3/lib/python3.11/site-packages/joblib/parallel.py\", line 288, in __call__\n    return [func(*args, **kwargs)\n           ^^^^^^^^^^^^^^^^^^^^^^\n  File \"/home/porco/anaconda3/lib/python3.11/site-packages/joblib/parallel.py\", line 288, in <listcomp>\n    return [func(*args, **kwargs)\n            ^^^^^^^^^^^^^^^^^^^^^\n  File \"/home/porco/anaconda3/lib/python3.11/site-packages/robustipy/models.py\", line 904, in _strap_OLS\n    output = stripped_ols(y=y, x=x)\n             ^^^^^^^^^^^^^^^^^^^^^^\n  File \"/home/porco/anaconda3/lib/python3.11/site-packages/robustipy/bootstrap_utils.py\", line 38, in stripped_ols\n    raise ValueError(\"Inputs must not be empty.\")\nValueError: Inputs must not be empty.\n\"\"\"",
      "\nThe above exception was the direct cause of the following exception:\n",
      "\u001b[0;31mValueError\u001b[0m                                Traceback (most recent call last)",
      "Cell \u001b[0;32mIn[48], line 1\u001b[0m\n\u001b[0;32m----> 1\u001b[0m ukhls_robustipy\u001b[38;5;241m.\u001b[39mfit(controls\u001b[38;5;241m=\u001b[39m[\u001b[38;5;124m'\u001b[39m\u001b[38;5;124mcohab_dv\u001b[39m\u001b[38;5;124m'\u001b[39m,\n\u001b[1;32m      2\u001b[0m \u001b[38;5;66;03m#                              'sex_dv',\u001b[39;00m\n\u001b[1;32m      3\u001b[0m \u001b[38;5;66;03m#                              'is_british',\u001b[39;00m\n\u001b[1;32m      4\u001b[0m \u001b[38;5;66;03m#                              'urban_dv',\u001b[39;00m\n\u001b[1;32m      5\u001b[0m \u001b[38;5;66;03m#                              'hhsize_dv',\u001b[39;00m\n\u001b[1;32m      6\u001b[0m \u001b[38;5;66;03m#                              'bmi_dv',\u001b[39;00m\n\u001b[1;32m      7\u001b[0m                              ],\n\u001b[1;32m      8\u001b[0m                    draws\u001b[38;5;241m=\u001b[39m\u001b[38;5;241m10\u001b[39m,\n\u001b[1;32m      9\u001b[0m                    kfold\u001b[38;5;241m=\u001b[39m\u001b[38;5;241m10\u001b[39m,\n\u001b[1;32m     10\u001b[0m                    group\u001b[38;5;241m=\u001b[39m\u001b[38;5;124m'\u001b[39m\u001b[38;5;124mpidp\u001b[39m\u001b[38;5;124m'\u001b[39m\n\u001b[1;32m     11\u001b[0m                    )\n",
      "File \u001b[0;32m~/anaconda3/lib/python3.11/site-packages/robustipy/models.py:712\u001b[0m, in \u001b[0;36mOLSRobust.fit\u001b[0;34m(self, controls, group, draws, kfold, shuffle, oos_metric)\u001b[0m\n\u001b[1;32m    705\u001b[0m     comb \u001b[38;5;241m=\u001b[39m group_demean(comb, group\u001b[38;5;241m=\u001b[39mgroup)\n\u001b[1;32m    706\u001b[0m (b_all, p_all, ll_i,\n\u001b[1;32m    707\u001b[0m  aic_i, bic_i, hqic_i,\n\u001b[1;32m    708\u001b[0m  av_k_metric_i) \u001b[38;5;241m=\u001b[39m \u001b[38;5;28mself\u001b[39m\u001b[38;5;241m.\u001b[39m_full_sample_OLS(comb,\n\u001b[1;32m    709\u001b[0m                                         kfold\u001b[38;5;241m=\u001b[39mkfold,\n\u001b[1;32m    710\u001b[0m                                         group\u001b[38;5;241m=\u001b[39mgroup,\n\u001b[1;32m    711\u001b[0m                                         oos_metric_name\u001b[38;5;241m=\u001b[39m\u001b[38;5;28mself\u001b[39m\u001b[38;5;241m.\u001b[39moos_metric_name)\n\u001b[0;32m--> 712\u001b[0m b_list, p_list \u001b[38;5;241m=\u001b[39m (\u001b[38;5;28mzip\u001b[39m(\u001b[38;5;241m*\u001b[39mParallel(n_jobs\u001b[38;5;241m=\u001b[39m\u001b[38;5;241m-\u001b[39m\u001b[38;5;241m1\u001b[39m)\n\u001b[1;32m    713\u001b[0m (delayed(\u001b[38;5;28mself\u001b[39m\u001b[38;5;241m.\u001b[39m_strap_OLS)\n\u001b[1;32m    714\u001b[0m  (comb,\n\u001b[1;32m    715\u001b[0m   group,\n\u001b[1;32m    716\u001b[0m   sample_size,\n\u001b[1;32m    717\u001b[0m   shuffle)\n\u001b[1;32m    718\u001b[0m  \u001b[38;5;28;01mfor\u001b[39;00m i \u001b[38;5;129;01min\u001b[39;00m \u001b[38;5;28mrange\u001b[39m(\u001b[38;5;241m0\u001b[39m,\n\u001b[1;32m    719\u001b[0m                 draws))))\n\u001b[1;32m    721\u001b[0m specs\u001b[38;5;241m.\u001b[39mappend(\u001b[38;5;28mfrozenset\u001b[39m(spec))\n\u001b[1;32m    722\u001b[0m all_predictors\u001b[38;5;241m.\u001b[39mappend(\u001b[38;5;28mself\u001b[39m\u001b[38;5;241m.\u001b[39mx \u001b[38;5;241m+\u001b[39m \u001b[38;5;28mlist\u001b[39m(spec) \u001b[38;5;241m+\u001b[39m [\u001b[38;5;124m'\u001b[39m\u001b[38;5;124mconst\u001b[39m\u001b[38;5;124m'\u001b[39m])\n",
      "File \u001b[0;32m~/anaconda3/lib/python3.11/site-packages/joblib/parallel.py:1098\u001b[0m, in \u001b[0;36mParallel.__call__\u001b[0;34m(self, iterable)\u001b[0m\n\u001b[1;32m   1095\u001b[0m     \u001b[38;5;28mself\u001b[39m\u001b[38;5;241m.\u001b[39m_iterating \u001b[38;5;241m=\u001b[39m \u001b[38;5;28;01mFalse\u001b[39;00m\n\u001b[1;32m   1097\u001b[0m \u001b[38;5;28;01mwith\u001b[39;00m \u001b[38;5;28mself\u001b[39m\u001b[38;5;241m.\u001b[39m_backend\u001b[38;5;241m.\u001b[39mretrieval_context():\n\u001b[0;32m-> 1098\u001b[0m     \u001b[38;5;28mself\u001b[39m\u001b[38;5;241m.\u001b[39mretrieve()\n\u001b[1;32m   1099\u001b[0m \u001b[38;5;66;03m# Make sure that we get a last message telling us we are done\u001b[39;00m\n\u001b[1;32m   1100\u001b[0m elapsed_time \u001b[38;5;241m=\u001b[39m time\u001b[38;5;241m.\u001b[39mtime() \u001b[38;5;241m-\u001b[39m \u001b[38;5;28mself\u001b[39m\u001b[38;5;241m.\u001b[39m_start_time\n",
      "File \u001b[0;32m~/anaconda3/lib/python3.11/site-packages/joblib/parallel.py:975\u001b[0m, in \u001b[0;36mParallel.retrieve\u001b[0;34m(self)\u001b[0m\n\u001b[1;32m    973\u001b[0m \u001b[38;5;28;01mtry\u001b[39;00m:\n\u001b[1;32m    974\u001b[0m     \u001b[38;5;28;01mif\u001b[39;00m \u001b[38;5;28mgetattr\u001b[39m(\u001b[38;5;28mself\u001b[39m\u001b[38;5;241m.\u001b[39m_backend, \u001b[38;5;124m'\u001b[39m\u001b[38;5;124msupports_timeout\u001b[39m\u001b[38;5;124m'\u001b[39m, \u001b[38;5;28;01mFalse\u001b[39;00m):\n\u001b[0;32m--> 975\u001b[0m         \u001b[38;5;28mself\u001b[39m\u001b[38;5;241m.\u001b[39m_output\u001b[38;5;241m.\u001b[39mextend(job\u001b[38;5;241m.\u001b[39mget(timeout\u001b[38;5;241m=\u001b[39m\u001b[38;5;28mself\u001b[39m\u001b[38;5;241m.\u001b[39mtimeout))\n\u001b[1;32m    976\u001b[0m     \u001b[38;5;28;01melse\u001b[39;00m:\n\u001b[1;32m    977\u001b[0m         \u001b[38;5;28mself\u001b[39m\u001b[38;5;241m.\u001b[39m_output\u001b[38;5;241m.\u001b[39mextend(job\u001b[38;5;241m.\u001b[39mget())\n",
      "File \u001b[0;32m~/anaconda3/lib/python3.11/site-packages/joblib/_parallel_backends.py:567\u001b[0m, in \u001b[0;36mLokyBackend.wrap_future_result\u001b[0;34m(future, timeout)\u001b[0m\n\u001b[1;32m    564\u001b[0m \u001b[38;5;250m\u001b[39m\u001b[38;5;124;03m\"\"\"Wrapper for Future.result to implement the same behaviour as\u001b[39;00m\n\u001b[1;32m    565\u001b[0m \u001b[38;5;124;03mAsyncResults.get from multiprocessing.\"\"\"\u001b[39;00m\n\u001b[1;32m    566\u001b[0m \u001b[38;5;28;01mtry\u001b[39;00m:\n\u001b[0;32m--> 567\u001b[0m     \u001b[38;5;28;01mreturn\u001b[39;00m future\u001b[38;5;241m.\u001b[39mresult(timeout\u001b[38;5;241m=\u001b[39mtimeout)\n\u001b[1;32m    568\u001b[0m \u001b[38;5;28;01mexcept\u001b[39;00m CfTimeoutError \u001b[38;5;28;01mas\u001b[39;00m e:\n\u001b[1;32m    569\u001b[0m     \u001b[38;5;28;01mraise\u001b[39;00m \u001b[38;5;167;01mTimeoutError\u001b[39;00m \u001b[38;5;28;01mfrom\u001b[39;00m \u001b[38;5;21;01me\u001b[39;00m\n",
      "File \u001b[0;32m~/anaconda3/lib/python3.11/concurrent/futures/_base.py:456\u001b[0m, in \u001b[0;36mFuture.result\u001b[0;34m(self, timeout)\u001b[0m\n\u001b[1;32m    454\u001b[0m     \u001b[38;5;28;01mraise\u001b[39;00m CancelledError()\n\u001b[1;32m    455\u001b[0m \u001b[38;5;28;01melif\u001b[39;00m \u001b[38;5;28mself\u001b[39m\u001b[38;5;241m.\u001b[39m_state \u001b[38;5;241m==\u001b[39m FINISHED:\n\u001b[0;32m--> 456\u001b[0m     \u001b[38;5;28;01mreturn\u001b[39;00m \u001b[38;5;28mself\u001b[39m\u001b[38;5;241m.\u001b[39m__get_result()\n\u001b[1;32m    457\u001b[0m \u001b[38;5;28;01melse\u001b[39;00m:\n\u001b[1;32m    458\u001b[0m     \u001b[38;5;28;01mraise\u001b[39;00m \u001b[38;5;167;01mTimeoutError\u001b[39;00m()\n",
      "File \u001b[0;32m~/anaconda3/lib/python3.11/concurrent/futures/_base.py:401\u001b[0m, in \u001b[0;36mFuture.__get_result\u001b[0;34m(self)\u001b[0m\n\u001b[1;32m    399\u001b[0m \u001b[38;5;28;01mif\u001b[39;00m \u001b[38;5;28mself\u001b[39m\u001b[38;5;241m.\u001b[39m_exception:\n\u001b[1;32m    400\u001b[0m     \u001b[38;5;28;01mtry\u001b[39;00m:\n\u001b[0;32m--> 401\u001b[0m         \u001b[38;5;28;01mraise\u001b[39;00m \u001b[38;5;28mself\u001b[39m\u001b[38;5;241m.\u001b[39m_exception\n\u001b[1;32m    402\u001b[0m     \u001b[38;5;28;01mfinally\u001b[39;00m:\n\u001b[1;32m    403\u001b[0m         \u001b[38;5;66;03m# Break a reference cycle with the exception in self._exception\u001b[39;00m\n\u001b[1;32m    404\u001b[0m         \u001b[38;5;28mself\u001b[39m \u001b[38;5;241m=\u001b[39m \u001b[38;5;28;01mNone\u001b[39;00m\n",
      "\u001b[0;31mValueError\u001b[0m: Inputs must not be empty."
     ]
    }
   ],
   "source": [
    "ukhls_robustipy.fit(controls=['cohab_dv',\n",
    "#                              'sex_dv',\n",
    "#                              'is_british',\n",
    "#                              'urban_dv',\n",
    "#                              'hhsize_dv',\n",
    "#                              'bmi_dv',\n",
    "                             ],\n",
    "                   draws=10,\n",
    "                   kfold=10,\n",
    "                   group='pidp'\n",
    "                   )"
   ]
  },
  {
   "cell_type": "markdown",
   "id": "d982c1f1-6292-4551-8e1d-4f6b1955cd3d",
   "metadata": {},
   "source": [
    "And, get the results:"
   ]
  },
  {
   "cell_type": "code",
   "execution_count": null,
   "id": "6a593df8-93d1-4e18-bf9e-6f4ffef0f594",
   "metadata": {},
   "outputs": [],
   "source": [
    "#ukhls_results = ukhls_robustipy.get_results()"
   ]
  },
  {
   "cell_type": "code",
   "execution_count": null,
   "id": "e626b6e8-6b53-4d9f-a91c-2cc4bc0e2c41",
   "metadata": {},
   "outputs": [],
   "source": [
    "#ukhls_results.summary_df"
   ]
  },
  {
   "cell_type": "markdown",
   "id": "64387769-edb6-451a-9ab4-8f6236f7ff34",
   "metadata": {},
   "source": [
    "Plot results:"
   ]
  },
  {
   "cell_type": "code",
   "execution_count": null,
   "id": "6b0b4e89-fe26-45e2-bdcd-263b6d978059",
   "metadata": {},
   "outputs": [],
   "source": [
    "#ukhls_results.plot(figsize=(16, 12))"
   ]
  },
  {
   "cell_type": "markdown",
   "id": "1c8fe1a5-db14-47d5-8a74-568fca2616f0",
   "metadata": {},
   "source": [
    "And print the summary statistic:"
   ]
  },
  {
   "cell_type": "code",
   "execution_count": null,
   "id": "2e2d9bef-5c9a-4652-81a3-fb00179b48de",
   "metadata": {},
   "outputs": [],
   "source": [
    "#ukhls_results.summary()"
   ]
  }
 ],
 "metadata": {
  "kernelspec": {
   "display_name": "Python 3 (ipykernel)",
   "language": "python",
   "name": "python3"
  },
  "language_info": {
   "codemirror_mode": {
    "name": "ipython",
    "version": 3
   },
   "file_extension": ".py",
   "mimetype": "text/x-python",
   "name": "python",
   "nbconvert_exporter": "python",
   "pygments_lexer": "ipython3",
   "version": "3.11.5"
  }
 },
 "nbformat": 4,
 "nbformat_minor": 5
}
